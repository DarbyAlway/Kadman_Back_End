{
 "cells": [
  {
   "cell_type": "code",
   "execution_count": 1,
   "id": "8468c81e",
   "metadata": {},
   "outputs": [],
   "source": [
    "import mysql.connector\n",
    "import json\n",
    "import time\n",
    "def get_connection():\n",
    "    return mysql.connector.connect(\n",
    "        host=\"kadman-database.c8boumioc8hx.us-east-1.rds.amazonaws.com\",\n",
    "        user=\"admin\",\n",
    "        password=\"12345678\",\n",
    "        database=\"kadmandb\",\n",
    "        port=3306,\n",
    "        charset='utf8mb4'\n",
    "    )\n",
    "\n",
    "def wait_for_db_connection():\n",
    "    while True:\n",
    "        try:\n",
    "            conn = get_connection()\n",
    "            print(\"✅ Successfully connected to MySQL database\")\n",
    "            return conn\n",
    "        except Exception as e:\n",
    "            print(f\"❌ Failed to connect to DB: {e}. Retrying in 1 seconds...\")\n",
    "            time.sleep(1)"
   ]
  },
  {
   "cell_type": "code",
   "execution_count": 2,
   "id": "c0686798",
   "metadata": {},
   "outputs": [
    {
     "name": "stdout",
     "output_type": "stream",
     "text": [
      "✅ Successfully connected to MySQL database\n"
     ]
    }
   ],
   "source": [
    "con = wait_for_db_connection()\n",
    "cursor = con.cursor()\n"
   ]
  },
  {
   "cell_type": "code",
   "execution_count": null,
   "id": "cbb37ca5",
   "metadata": {},
   "outputs": [],
   "source": [
    "# Query all vendor data\n",
    "cursor.execute(\"ALTER TABLE vendors DROP COLUMN lineID\")\n",
    "rows = cursor.fetchall()\n",
    "print(rows)"
   ]
  },
  {
   "cell_type": "code",
   "execution_count": 16,
   "id": "9feb9591",
   "metadata": {},
   "outputs": [],
   "source": [
    "cursor.execute(\"ALTER TABLE vendors ADD COLUMN UserProfile VARCHAR(20)\")\n",
    "con.commit()\n",
    "cursor.close()\n",
    "con.close()"
   ]
  },
  {
   "cell_type": "code",
   "execution_count": 6,
   "id": "7fb350f4",
   "metadata": {},
   "outputs": [],
   "source": [
    "cursor = con.cursor()\n",
    "cursor.execute(\"SELECT * FROM layouts\")\n",
    "\n",
    "# Get all rows\n",
    "rows = cursor.fetchall()\n",
    "\n",
    "# Get column names\n",
    "column_names = [desc[0] for desc in cursor.description]\n",
    "\n",
    "# Convert rows to list of dicts\n",
    "result = [dict(zip(column_names, row)) for row in rows]\n",
    "\n",
    "json_output = json.dumps(result, ensure_ascii=False, indent=2)\n",
    "# Optional: Save to file\n",
    "with open(\"layouts_dump.json\", \"w\", encoding=\"utf-8\") as f:\n",
    "    f.write(json_output)"
   ]
  },
  {
   "cell_type": "code",
   "execution_count": 54,
   "id": "99a10eae",
   "metadata": {},
   "outputs": [
    {
     "name": "stdout",
     "output_type": "stream",
     "text": [
      "✅ Successfully connected to MySQL database\n",
      "✅ Table 'waiting_vendors' dropped successfully.\n"
     ]
    },
    {
     "data": {
      "text/plain": [
       "False"
      ]
     },
     "execution_count": 54,
     "metadata": {},
     "output_type": "execute_result"
    }
   ],
   "source": [
    "conn = wait_for_db_connection()\n",
    "\n",
    "try:\n",
    "    cursor\n",
    "except NameError:\n",
    "    cursor = None\n",
    "\n",
    "if cursor is not None:\n",
    "    try:\n",
    "        # fetch all unread results if any\n",
    "        cursor.fetchall()\n",
    "    except Exception:\n",
    "        # ignore if no results or error\n",
    "        pass\n",
    "    cursor.close()\n",
    "cursor = conn.cursor()\n",
    "cursor.execute(\"DROP TABLE IF EXISTS waiting_vendors\")\n",
    "print(\"✅ Table 'waiting_vendors' dropped successfully.\")\n",
    "cursor.close()\n",
    "conn.commit()\n",
    "cursor.close()\n"
   ]
  },
  {
   "cell_type": "code",
   "execution_count": 2,
   "id": "c1b06352",
   "metadata": {},
   "outputs": [
    {
     "name": "stdout",
     "output_type": "stream",
     "text": [
      "✅ Table 'waiting_vendors' created successfully.\n"
     ]
    }
   ],
   "source": [
    "def create_waiting_vendors_table():\n",
    "    conn = get_connection()\n",
    "    cursor = conn.cursor()\n",
    "\n",
    "    create_table_sql = \"\"\"\n",
    "    CREATE TABLE IF NOT EXISTS waiting_vendors (\n",
    "        LineID VARCHAR(255) COLLATE utf8mb4_unicode_ci NOT NULL,\n",
    "        UserProfile VARCHAR(255) COLLATE utf8mb4_unicode_ci NOT NULL,\n",
    "        PRIMARY KEY (LineID)\n",
    "    ) ENGINE=InnoDB DEFAULT CHARSET=utf8mb4 COLLATE=utf8mb4_unicode_ci;\n",
    "    \"\"\"\n",
    "\n",
    "    try:\n",
    "        cursor.execute(create_table_sql)\n",
    "        print(\"✅ Table 'waiting_vendors' created successfully.\")\n",
    "    except mysql.connector.Error as err:\n",
    "        print(f\"❌ Error creating table: {err}\")\n",
    "    finally:\n",
    "        cursor.close()\n",
    "        conn.close()\n",
    "\n",
    "# Run the function\n",
    "create_waiting_vendors_table()\n"
   ]
  },
  {
   "cell_type": "code",
   "execution_count": 2,
   "id": "272b3a92",
   "metadata": {},
   "outputs": [
    {
     "name": "stdout",
     "output_type": "stream",
     "text": [
      "Rows in 'vendors' (113 rows):\n",
      "\n",
      "vendorID | vendor_name | shop_name | lineID | badges | attendance\n",
      "---------------------------------------------------------------------------\n",
      "1 | None | อิงสร้อยผ้าโพก | None | [\"เครื่องประดับ\"] | 3\n",
      "2 | None | โอเสื้อยืด,เชิ้ต,แว่นตา | None | [] | 3\n",
      "3 | None | ไอซ์ stronger.store25 เสื้อยืดแจ็คเก็ต | None | [\"เสื้อผ้า\"] | 3\n",
      "4 | None | พี่ตั้มหอยทากเสื้อยืดของเล่น | None | [\"เสื้อผ้า\", \"ของเล่น\"] | 3\n",
      "5 | None | แม่ต่ายเสื้อยืด | None | [\"เสื้อผ้า\", \"ของเล่น\"] | 3\n",
      "6 | None | แม่ต่ายแขนยาว | None | [\"เสื้อผ้า\"] | 3\n",
      "7 | None | โอมเพี้ยงเสื้อยืด | None | [\"เสื้อผ้า\"] | 3\n",
      "8 | None | พี่เบนซ์กระเป๋า | None | [\"กระเป๋า\"] | 3\n",
      "9 | None | ฟ่าง y2k | None | [\"เสื้อผ้า\", \"y2k\"] | 3\n",
      "10 | None | อาย daffodil.3store เสื้อฮิปปี้ | None | [\"เสื้อผ้า\"] | 3\n",
      "11 | None | บับเบิ้ลเสื้อยืด เนคไท ผ้าเช็ดหน้า | None | [\"เสื้อผ้า\"] | 3\n",
      "12 | None | พี่อาร์มเสื้อกีฬา | None | [\"เสื้อผ้า\"] | 3\n",
      "13 | None | พี่ฮัทถุงเท้า | None | [\"ถุงเท้า\"] | 3\n",
      "14 | None | พี่อ๋องแจ็คเก็ต | None | [\"เสื้อผ้า\"] | 3\n",
      "15 | None | พี่วุฒิโปสเตอร์ | None | [\"โปสเตอร์\"] | 3\n",
      "16 | None | พี่พรฮิปปี้แฟรี่ y2k | None | [\"เสื้อผ้า\", \"y2k\"] | 3\n",
      "17 | None | พี่เอ็ม & ครูมายัง y2k | None | [\"เสื้อผ้า\", \"y2k\"] | 3\n",
      "18 | None | โจแว่นตา | None | [\"แว่นตา\"] | 3\n",
      "19 | None | พี่เบนซ์ | None | [] | 3\n",
      "20 | None | เจมส์ วูดูเสื้อยืดล้วน | None | [\"เสื้อผ้า\"] | 3\n",
      "21 | None | พี่เท่งานเกาหลี | None | [] | 3\n",
      "22 | None | พี่ยุ้ยยีน | None | [\"เสื้อผ้า\"] | 3\n",
      "23 | None | พี่ตั้มยีน | None | [\"เสื้อผ้า\"] | 3\n",
      "24 | None | แพรถุงเท้ากิ๊ฟช็อป | None | [\"ถุงเท้า\"] | 3\n",
      "25 | None | เนยพวงกุญแจเสื้อลายสก็อต | None | [\"เครื่องประดับ\"] | 3\n",
      "26 | None | พี่ส้มนาฬิกา | None | [\"นาฬิกา\"] | 3\n",
      "27 | None | พี่ดิวสร้อยเงิน | None | [\"เครื่องประดับ\"] | 3\n",
      "28 | None | พี่จอยสร้อยแฮนเมด | None | [\"เครื่องประดับ\"] | 3\n",
      "29 | None | พี่อาร์ตรองเท้า | None | [\"รองเท้า\"] | 3\n",
      "30 | None | ซุ่น & ฝนเสื้อยืด | None | [\"เสื้อผ้า\"] | 3\n",
      "31 | None | ลุงแบงค์เสื้อยืด | None | [\"เสื้อผ้า\"] | 3\n",
      "32 | None | พี่เอ๋เสื้อเชิ้ตฮาวาย | None | [\"เสื้อผ้า\"] | 3\n",
      "33 | None | จ๊อยซ์กระเป๋า | None | [\"กระเป๋า\"] | 3\n",
      "34 | None | เจ๊ก้อยของเล่นเด็ก | None | [\"ของเล่น\"] | 3\n",
      "35 | None | น้ำแข็งเสื้อยืดวินเทจ | None | [\"เสื้อผ้า\"] | 3\n",
      "36 | None | พี่แว่นกางเกง | None | [\"เสื้อผ้า\"] | 3\n",
      "37 | None | น้ำแป้ง | None | [] | 3\n",
      "38 | None | พี่ปุ๋มเสื้อโปโลเชิ้ต | None | [\"เสื้อผ้า\"] | 3\n",
      "39 | None | แจ็คกางเกง | None | [\"เสื้อผ้า\"] | 3\n",
      "40 | None | แจ๊สกางเกง | None | [\"เสื้อผ้า\"] | 3\n",
      "41 | None | พี่อิ๊ของเล่น | None | [\"ของเล่น\"] | 3\n",
      "42 | None | พี่แอ๊ดเสื้อเชิ้ต | None | [\"เสื้อผ้า\"] | 3\n",
      "43 | None | แอมเสื้อยืดวินเทจ | None | [\"เสื้อผ้า\"] | 3\n",
      "44 | None | พี่แจ๊คเสื้อเชิ้ตวินเทจ | None | [\"เสื้อผ้า\"] | 3\n",
      "45 | None | ซันเดย์เสื้อเชิ้ต | None | [\"เสื้อผ้า\"] | 3\n",
      "46 | None | พี่โบ้เสื้อเชิ้ต | None | [\"เสื้อผ้า\"] | 3\n",
      "47 | None | พี่เจี๊ยบเชิ้ตวินเทจ | None | [\"เสื้อผ้า\"] | 3\n",
      "48 | None | พี่หมีเสื้อยืด | None | [\"เสื้อผ้า\"] | 3\n",
      "49 | None | พี่วิไล | None | [] | 3\n",
      "50 | None | พี่เปี๊ยกเสื้อโปโล | None | [\"เสื้อผ้า\"] | 3\n",
      "51 | None | พี่หน่อยเดรส | None | [\"เสื้อผ้า\"] | 3\n",
      "52 | None | พี่หน่อยกางเกง | None | [\"เสื้อผ้า\"] | 3\n",
      "53 | None | พี่กาญแจ็คเก็ต | None | [\"เสื้อผ้า\"] | 3\n",
      "54 | None | แจ๊คพรีออเดอร์ | None | [] | 3\n",
      "55 | None | ปุ้ยเสื้อยืด | None | [\"เสื้อผ้า\"] | 3\n",
      "56 | None | เบิร์ดเสื้อยืด | None | [\"เสื้อผ้า\"] | 3\n",
      "57 | None | แหม่มกางเกง | None | [\"เสื้อผ้า\"] | 3\n",
      "58 | None | พี่แขกเสื้อเชิ้ตวินเทจ | None | [\"เสื้อผ้า\"] | 3\n",
      "59 | None | เฮียนก | None | [] | 3\n",
      "60 | None | พี่วิชัย | None | [] | 3\n",
      "61 | None | พี่เด่น | None | [] | 3\n",
      "62 | None | พี่โจ้ | None | [] | 3\n",
      "63 | None | พี่ชัย | None | [] | 3\n",
      "64 | None | เฮียเบิ้ม | None | [] | 3\n",
      "65 | None | พี่โจ้ | None | [] | 3\n",
      "66 | None | พี่ชัย | None | [] | 3\n",
      "67 | None | พี่เบิ้ม | None | [] | 3\n",
      "68 | None | ฝ้ายสร้อย | None | [\"เครื่องประดับ\"] | 3\n",
      "69 | None | ฝ้ายสร้อย | None | [\"เครื่องประดับ\"] | 3\n",
      "70 | None | เดียเล็บทีน | None | [] | 3\n",
      "71 | None | แบ้งกี้เครื่องประดับ | None | [\"เครื่องประดับ\"] | 3\n",
      "72 | None | ซายรองเท้า | None | [\"รองเท้า\"] | 3\n",
      "73 | None | เหนงเสื้อยืดแว่น กางเต๊นท์ | None | [\"เสื้อผ้า\", \"แว่นตา\"] | 3\n",
      "74 | None | วนิดา | None | [] | 3\n",
      "75 | None | กิ๊กโยะ | None | [] | 3\n",
      "76 | None | เวฟ | None | [] | 3\n",
      "77 | None | จีรศักดิ์ | None | [] | 3\n",
      "78 | None | ฮันนี่ | None | [] | 3\n",
      "79 | None | เต๋าน้อย | None | [] | 3\n",
      "80 | None | คาราเมล | None | [] | 3\n",
      "81 | None | เป็นหนึ่ง | None | [] | 3\n",
      "82 | None | ฟาง | None | [] | 3\n",
      "83 | None | กอล์ฟ The Vintage Shop | None | [] | 3\n",
      "84 | None | ต้า | None | [] | 3\n",
      "85 | None | แม่หมู | None | [] | 3\n",
      "86 | None | ปอนด์เสื้อยืด | None | [\"เสื้อผ้า\"] | 3\n",
      "87 | None | น้าวัฒนะ | None | [] | 3\n",
      "88 | None | ดิวหนูนา | None | [] | 3\n",
      "89 | None | เเชมป์ | None | [] | 3\n",
      "90 | None | แชมป์ | None | [] | 3\n",
      "91 | None | พี่ปอใบไม้ | None | [] | 3\n",
      "92 | None | พี่ต้องของเล่น | None | [\"ของเล่น\"] | 3\n",
      "93 | None | น้อยหน่า (nullว่างอังคาร) | None | [] | 3\n",
      "94 | None | มิ้น | None | [] | 3\n",
      "95 | None | not | None | [] | 3\n",
      "96 | None | พี่ป้อม | None | [] | 3\n",
      "97 | None | Gary เสื้อยืด | None | [\"เสื้อผ้า\"] | 3\n",
      "98 | None | จู๊ดจี้ | None | [] | 3\n",
      "99 | None | บุญญฤทธิ์ | None | [] | 3\n",
      "100 | None | พี่ป้อม | None | [] | 3\n",
      "101 | None | พัชรี | None | [] | 3\n",
      "102 | None | พี่เต้ย | None | [] | 3\n",
      "103 | None | พี่หนู | None | [] | 3\n",
      "104 | None | พี่ตูน | None | [] | 3\n",
      "105 | None | พี่จู๋ RatZone | None | [] | 3\n",
      "106 | None | พี่ดรีม & พี่กานต์ | None | [] | 3\n",
      "107 | None | พี่โน๊ต (ตู้ขาว) | None | [] | 3\n",
      "108 | None | พี่หนุ่ม | None | [] | 3\n",
      "109 | None | พี่เฟรม | None | [] | 3\n",
      "110 | None | พี่ต้น | None | [] | 3\n",
      "111 | None | พี่บอล | None | [] | 3\n",
      "112 | None | Pattaranon | U187b91a5499f71fc6bd043862859c15a | [] | 3\n",
      "113 | None | Ananta | Uba9c6372c95976bb909ebce81e86b933 | [\"ของเล่น\"] | 3\n"
     ]
    }
   ],
   "source": [
    "def show_all_rows():\n",
    "    conn = get_connection()\n",
    "    cursor = conn.cursor()\n",
    "\n",
    "    try:\n",
    "        cursor.execute(\"SELECT * FROM vendors\")\n",
    "        rows = cursor.fetchall()\n",
    "        columns = [desc[0] for desc in cursor.description]  # Get column names\n",
    "\n",
    "        if rows:\n",
    "            print(f\"Rows in 'vendors' ({len(rows)} rows):\\n\")\n",
    "            print(\" | \".join(columns))  # Print column headers\n",
    "            print(\"-\" * (len(\" | \".join(columns)) + 10))\n",
    "            for row in rows:\n",
    "                print(\" | \".join(str(cell) for cell in row))\n",
    "        else:\n",
    "            print(\"No rows found in table.\")\n",
    "    except mysql.connector.Error as err:\n",
    "        print(f\"Error fetching rows: {err}\")\n",
    "    finally:\n",
    "        cursor.close()\n",
    "        conn.close()\n",
    "\n",
    "# Run the function\n",
    "show_all_rows()\n",
    "    "
   ]
  },
  {
   "cell_type": "code",
   "execution_count": 12,
   "id": "c3256371",
   "metadata": {},
   "outputs": [
    {
     "name": "stdout",
     "output_type": "stream",
     "text": [
      "Error updating rows: 1205 (HY000): Lock wait timeout exceeded; try restarting transaction\n"
     ]
    }
   ],
   "source": [
    "def update_attendance_to_three():\n",
    "    conn = get_connection()\n",
    "    cursor = conn.cursor()\n",
    "\n",
    "    try:\n",
    "        cursor.execute(\"UPDATE vendors SET attendance = 3\")\n",
    "        conn.commit()\n",
    "        print(\"All rows updated: attendance set to 3.\")\n",
    "    except mysql.connector.Error as err:\n",
    "        print(f\"Error updating rows: {err}\")\n",
    "    finally:\n",
    "        cursor.close()\n",
    "        conn.close()\n",
    "\n",
    "# Run the function\n",
    "update_attendance_to_three()\n"
   ]
  },
  {
   "cell_type": "code",
   "execution_count": null,
   "id": "aa374d4e",
   "metadata": {},
   "outputs": [],
   "source": [
    "sql = 'SHOW COLUMNS FROM kadmandb.columns'"
   ]
  },
  {
   "cell_type": "code",
   "execution_count": null,
   "id": "a6aa5dc1",
   "metadata": {},
   "outputs": [],
   "source": []
  }
 ],
 "metadata": {
  "kernelspec": {
   "display_name": "pytorch",
   "language": "python",
   "name": "python3"
  },
  "language_info": {
   "codemirror_mode": {
    "name": "ipython",
    "version": 3
   },
   "file_extension": ".py",
   "mimetype": "text/x-python",
   "name": "python",
   "nbconvert_exporter": "python",
   "pygments_lexer": "ipython3",
   "version": "3.10.18"
  }
 },
 "nbformat": 4,
 "nbformat_minor": 5
}
