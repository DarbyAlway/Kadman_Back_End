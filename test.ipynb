{
 "cells": [
  {
   "cell_type": "code",
   "execution_count": 16,
   "id": "8468c81e",
   "metadata": {},
   "outputs": [],
   "source": [
    "import mysql.connector\n",
    "import json\n",
    "import time\n",
    "def get_connection():\n",
    "    return mysql.connector.connect(\n",
    "        host=\"kadman-aurora-db-instance-1.clq6qs624meb.ap-southeast-2.rds.amazonaws.com\",\n",
    "        user=\"admin\",\n",
    "        password=\"12345678\",\n",
    "        database=\"kadmandb\",\n",
    "        port=3306,\n",
    "        charset='utf8mb4'\n",
    "    )\n",
    "\n",
    "def wait_for_db_connection():\n",
    "    while True:\n",
    "        try:\n",
    "            conn = get_connection()\n",
    "            print(\"✅ Successfully connected to MySQL database\")\n",
    "            return conn\n",
    "        except Exception as e:\n",
    "            print(f\"❌ Failed to connect to DB: {e}. Retrying in 1 seconds...\")\n",
    "            time.sleep(1)"
   ]
  },
  {
   "cell_type": "code",
   "execution_count": 17,
   "id": "c0686798",
   "metadata": {},
   "outputs": [
    {
     "name": "stdout",
     "output_type": "stream",
     "text": [
      "✅ Successfully connected to MySQL database\n"
     ]
    }
   ],
   "source": [
    "con = wait_for_db_connection()\n",
    "cursor = con.cursor()\n"
   ]
  },
  {
   "cell_type": "code",
   "execution_count": null,
   "id": "cbb37ca5",
   "metadata": {},
   "outputs": [],
   "source": [
    "# Query all vendor data\n",
    "cursor.execute(\"ALTER TABLE vendors DROP COLUMN lineID\")\n",
    "rows = cursor.fetchall()\n",
    "print(rows)"
   ]
  },
  {
   "cell_type": "code",
   "execution_count": 16,
   "id": "9feb9591",
   "metadata": {},
   "outputs": [],
   "source": [
    "cursor.execute(\"ALTER TABLE vendors ADD COLUMN UserProfile VARCHAR(20)\")\n",
    "con.commit()\n",
    "cursor.close()\n",
    "con.close()"
   ]
  },
  {
   "cell_type": "code",
   "execution_count": 18,
   "id": "7fb350f4",
   "metadata": {},
   "outputs": [
    {
     "name": "stdout",
     "output_type": "stream",
     "text": [
      "(1, 'Example Tech Shop', '0812345678', '[\"top_rated\", \"online_delivery\"]', 'test_shop')\n"
     ]
    }
   ],
   "source": [
    "cursor = con.cursor()\n",
    "cursor.execute(\"SELECT * FROM real_vendors;\")\n",
    "result = cursor.fetchone()\n",
    "print(result)  # The actual CREATE TABLE SQL\n",
    "\n",
    "cursor.close()\n",
    "con.close()"
   ]
  },
  {
   "cell_type": "code",
   "execution_count": 54,
   "id": "99a10eae",
   "metadata": {},
   "outputs": [
    {
     "name": "stdout",
     "output_type": "stream",
     "text": [
      "✅ Successfully connected to MySQL database\n",
      "✅ Table 'waiting_vendors' dropped successfully.\n"
     ]
    },
    {
     "data": {
      "text/plain": [
       "False"
      ]
     },
     "execution_count": 54,
     "metadata": {},
     "output_type": "execute_result"
    }
   ],
   "source": [
    "conn = wait_for_db_connection()\n",
    "\n",
    "try:\n",
    "    cursor\n",
    "except NameError:\n",
    "    cursor = None\n",
    "\n",
    "if cursor is not None:\n",
    "    try:\n",
    "        # fetch all unread results if any\n",
    "        cursor.fetchall()\n",
    "    except Exception:\n",
    "        # ignore if no results or error\n",
    "        pass\n",
    "    cursor.close()\n",
    "cursor = conn.cursor()\n",
    "cursor.execute(\"DROP TABLE IF EXISTS waiting_vendors\")\n",
    "print(\"✅ Table 'waiting_vendors' dropped successfully.\")\n",
    "cursor.close()\n",
    "conn.commit()\n",
    "cursor.close()\n"
   ]
  },
  {
   "cell_type": "code",
   "execution_count": 55,
   "id": "c1b06352",
   "metadata": {},
   "outputs": [
    {
     "name": "stdout",
     "output_type": "stream",
     "text": [
      "✅ Table 'waiting_vendors' created successfully.\n"
     ]
    }
   ],
   "source": [
    "def create_waiting_vendors_table():\n",
    "    conn = get_connection()\n",
    "    cursor = conn.cursor()\n",
    "\n",
    "    create_table_sql = \"\"\"\n",
    "    CREATE TABLE IF NOT EXISTS waiting_vendors (\n",
    "        LineID VARCHAR(255) COLLATE utf8mb4_unicode_ci NOT NULL,\n",
    "        UserProfile VARCHAR(255) COLLATE utf8mb4_unicode_ci NOT NULL,\n",
    "        PRIMARY KEY (LineID)\n",
    "    ) ENGINE=InnoDB DEFAULT CHARSET=utf8mb4 COLLATE=utf8mb4_unicode_ci;\n",
    "    \"\"\"\n",
    "\n",
    "    try:\n",
    "        cursor.execute(create_table_sql)\n",
    "        print(\"✅ Table 'waiting_vendors' created successfully.\")\n",
    "    except mysql.connector.Error as err:\n",
    "        print(f\"❌ Error creating table: {err}\")\n",
    "    finally:\n",
    "        cursor.close()\n",
    "        conn.close()\n",
    "\n",
    "# Run the function\n",
    "create_waiting_vendors_table()\n"
   ]
  },
  {
   "cell_type": "code",
   "execution_count": null,
   "id": "272b3a92",
   "metadata": {},
   "outputs": [
    {
     "name": "stdout",
     "output_type": "stream",
     "text": [
      "No rows found in 'waiting_vendors' table.\n"
     ]
    },
    {
     "ename": "",
     "evalue": "",
     "output_type": "error",
     "traceback": [
      "\u001b[1;31mThe Kernel crashed while executing code in the current cell or a previous cell. \n",
      "\u001b[1;31mPlease review the code in the cell(s) to identify a possible cause of the failure. \n",
      "\u001b[1;31mClick <a href='https://aka.ms/vscodeJupyterKernelCrash'>here</a> for more info. \n",
      "\u001b[1;31mView Jupyter <a href='command:jupyter.viewOutput'>log</a> for further details."
     ]
    }
   ],
   "source": [
    "def show_all_rows():\n",
    "    conn = get_connection()\n",
    "    cursor = conn.cursor()\n",
    "\n",
    "    try:\n",
    "        cursor.execute(\"SELECT * FROM waiting_vendors\")\n",
    "        rows = cursor.fetchall()\n",
    "        if rows:\n",
    "            print(f\"Rows in 'waiting_vendors' ({len(rows)} rows):\")\n",
    "            for row in rows:\n",
    "                print(row)\n",
    "        else:\n",
    "            print(\"No rows found in 'waiting_vendors' table.\")\n",
    "    except mysql.connector.Error as err:\n",
    "        print(f\"Error fetching rows: {err}\")\n",
    "    finally:\n",
    "        cursor.close()\n",
    "        conn.close()\n",
    "\n",
    "# Run the function\n",
    "show_all_rows()"
   ]
  },
  {
   "cell_type": "code",
   "execution_count": 7,
   "id": "c3256371",
   "metadata": {},
   "outputs": [
    {
     "name": "stdout",
     "output_type": "stream",
     "text": [
      "✅ Successfully connected to MySQL database\n"
     ]
    }
   ],
   "source": [
    "conn = wait_for_db_connection()\n",
    "cursor = conn.cursor()\n",
    "cursor.execute('''\n",
    "CREATE TABLE IF NOT EXISTS real_vendors (\n",
    "    vendorsID INTEGER PRIMARY KEY AUTO_INCREMENT,\n",
    "    shopname VARCHAR(255) NOT NULL,\n",
    "    phone_number VARCHAR(20) NOT NULL,\n",
    "    badges JSON,             -- MySQL supports a JSON data type in recent versions\n",
    "    UserProfile VARCHAR(1000) NOT NULL\n",
    ");\n",
    "''')"
   ]
  },
  {
   "cell_type": "code",
   "execution_count": null,
   "id": "6fc4ab24",
   "metadata": {},
   "outputs": [],
   "source": []
  }
 ],
 "metadata": {
  "kernelspec": {
   "display_name": "base",
   "language": "python",
   "name": "python3"
  },
  "language_info": {
   "codemirror_mode": {
    "name": "ipython",
    "version": 3
   },
   "file_extension": ".py",
   "mimetype": "text/x-python",
   "name": "python",
   "nbconvert_exporter": "python",
   "pygments_lexer": "ipython3",
   "version": "3.12.1"
  }
 },
 "nbformat": 4,
 "nbformat_minor": 5
}
