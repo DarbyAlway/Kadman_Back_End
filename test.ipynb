{
 "cells": [
  {
   "cell_type": "markdown",
   "id": "10d82111",
   "metadata": {},
   "source": [
    "# Status"
   ]
  },
  {
   "cell_type": "code",
   "execution_count": 1,
   "id": "8468c81e",
   "metadata": {},
   "outputs": [],
   "source": [
    "import mysql.connector\n",
    "import json\n",
    "import time\n",
    "def get_connection():\n",
    "    return mysql.connector.connect(\n",
    "        host=\"kadman-database.c8boumioc8hx.us-east-1.rds.amazonaws.com\",\n",
    "        user=\"admin\",\n",
    "        password=\"12345678\",\n",
    "        database=\"kadmandb\",\n",
    "        port=3306,\n",
    "        charset='utf8mb4'\n",
    "    )\n"
   ]
  },
  {
   "cell_type": "code",
   "execution_count": 2,
   "id": "c0686798",
   "metadata": {},
   "outputs": [],
   "source": [
    "con = get_connection()\n",
    "cursor = con.cursor()\n"
   ]
  },
  {
   "cell_type": "code",
   "execution_count": null,
   "id": "cbb37ca5",
   "metadata": {},
   "outputs": [],
   "source": [
    "# Query all vendor data\n",
    "cursor.execute(\"ALTER TABLE vendors DROP COLUMN lineID\")\n",
    "rows = cursor.fetchall()\n",
    "print(rows)"
   ]
  },
  {
   "cell_type": "code",
   "execution_count": 16,
   "id": "9feb9591",
   "metadata": {},
   "outputs": [],
   "source": [
    "cursor.execute(\"ALTER TABLE vendors ADD COLUMN UserProfile VARCHAR(20)\")\n",
    "con.commit()\n",
    "cursor.close()\n",
    "con.close()"
   ]
  },
  {
   "cell_type": "code",
   "execution_count": 6,
   "id": "7fb350f4",
   "metadata": {},
   "outputs": [],
   "source": [
    "cursor = con.cursor()\n",
    "cursor.execute(\"SELECT * FROM layouts\")\n",
    "\n",
    "# Get all rows\n",
    "rows = cursor.fetchall()\n",
    "\n",
    "# Get column names\n",
    "column_names = [desc[0] for desc in cursor.description]\n",
    "\n",
    "# Convert rows to list of dicts\n",
    "result = [dict(zip(column_names, row)) for row in rows]\n",
    "\n",
    "json_output = json.dumps(result, ensure_ascii=False, indent=2)\n",
    "# Optional: Save to file\n",
    "with open(\"layouts_dump.json\", \"w\", encoding=\"utf-8\") as f:\n",
    "    f.write(json_output)"
   ]
  },
  {
   "cell_type": "code",
   "execution_count": 54,
   "id": "99a10eae",
   "metadata": {},
   "outputs": [
    {
     "name": "stdout",
     "output_type": "stream",
     "text": [
      "✅ Successfully connected to MySQL database\n",
      "✅ Table 'waiting_vendors' dropped successfully.\n"
     ]
    },
    {
     "data": {
      "text/plain": [
       "False"
      ]
     },
     "execution_count": 54,
     "metadata": {},
     "output_type": "execute_result"
    }
   ],
   "source": [
    "conn = wait_for_db_connection()\n",
    "\n",
    "try:\n",
    "    cursor\n",
    "except NameError:\n",
    "    cursor = None\n",
    "\n",
    "if cursor is not None:\n",
    "    try:\n",
    "        # fetch all unread results if any\n",
    "        cursor.fetchall()\n",
    "    except Exception:\n",
    "        # ignore if no results or error\n",
    "        pass\n",
    "    cursor.close()\n",
    "cursor = conn.cursor()\n",
    "cursor.execute(\"DROP TABLE IF EXISTS waiting_vendors\")\n",
    "print(\"✅ Table 'waiting_vendors' dropped successfully.\")\n",
    "cursor.close()\n",
    "conn.commit()\n",
    "cursor.close()\n"
   ]
  },
  {
   "cell_type": "code",
   "execution_count": 2,
   "id": "c1b06352",
   "metadata": {},
   "outputs": [
    {
     "name": "stdout",
     "output_type": "stream",
     "text": [
      "✅ Table 'waiting_vendors' created successfully.\n"
     ]
    }
   ],
   "source": [
    "def create_waiting_vendors_table():\n",
    "    conn = get_connection()\n",
    "    cursor = conn.cursor()\n",
    "\n",
    "    create_table_sql = \"\"\"\n",
    "    CREATE TABLE IF NOT EXISTS waiting_vendors (\n",
    "        LineID VARCHAR(255) COLLATE utf8mb4_unicode_ci NOT NULL,\n",
    "        UserProfile VARCHAR(255) COLLATE utf8mb4_unicode_ci NOT NULL,\n",
    "        PRIMARY KEY (LineID)\n",
    "    ) ENGINE=InnoDB DEFAULT CHARSET=utf8mb4 COLLATE=utf8mb4_unicode_ci;\n",
    "    \"\"\"\n",
    "\n",
    "    try:\n",
    "        cursor.execute(create_table_sql)\n",
    "        print(\"✅ Table 'waiting_vendors' created successfully.\")\n",
    "    except mysql.connector.Error as err:\n",
    "        print(f\"❌ Error creating table: {err}\")\n",
    "    finally:\n",
    "        cursor.close()\n",
    "        conn.close()\n",
    "\n",
    "# Run the function\n",
    "create_waiting_vendors_table()\n"
   ]
  },
  {
   "cell_type": "code",
   "execution_count": 22,
   "id": "272b3a92",
   "metadata": {},
   "outputs": [
    {
     "name": "stdout",
     "output_type": "stream",
     "text": [
      "Rows in 'layouts' (6 rows):\n",
      "\n",
      "id | name | status | data\n",
      "-----------------------------------\n",
      "1 | layout1 | inactive | {\"A1\": {\"status\": \"\", \"vendorID\": 1, \"shop_name\": \"อิงสร้อยผ้าโพก\"}, \"A2\": {\"status\": \"\", \"vendorID\": 2, \"shop_name\": \"โอเสื้อยืด,เชิ้ต,แว่นตา\"}, \"A3\": {\"status\": \"\", \"vendorID\": 3, \"shop_name\": \"ไอซ์ stronger.store25 เสื้อยืดแจ็คเก็ต\"}, \"A4\": {\"status\": \"\", \"vendorID\": 4, \"shop_name\": \"พี่ตั้มหอยทากเสื้อยืดของเล่น\"}, \"A5\": {\"status\": \"\", \"vendorID\": 5, \"shop_name\": \"แม่ต่ายเสื้อยืด\"}, \"A6\": {\"status\": \"\", \"vendorID\": 6, \"shop_name\": \"แม่ต่ายแขนยาว\"}, \"A7\": {\"status\": \"\", \"vendorID\": 7, \"shop_name\": \"โอมเพี้ยงเสื้อยืด\"}, \"A8\": {\"status\": \"\", \"vendorID\": 8, \"shop_name\": \"พี่เบนซ์กระเป๋า\"}, \"A9\": {\"status\": \"\", \"vendorID\": 9, \"shop_name\": \"ฟ่าง y2k\"}, \"B1\": {\"status\": \"\", \"vendorID\": 32, \"shop_name\": \"พี่เอ๋เสื้อเชิ้ตฮาวาย\"}, \"B2\": {\"status\": \"\", \"vendorID\": 33, \"shop_name\": \"จ๊อยซ์กระเป๋า\"}, \"B3\": {\"status\": \"\", \"vendorID\": 34, \"shop_name\": \"เจ๊ก้อยของเล่นเด็ก\"}, \"B4\": {\"status\": \"\", \"vendorID\": 35, \"shop_name\": \"น้ำแข็งเสื้อยืดวินเทจ\"}, \"B5\": {\"status\": \"\", \"vendorID\": 36, \"shop_name\": \"พี่แว่นกางเกง\"}, \"B6\": {\"status\": \"\", \"vendorID\": 37, \"shop_name\": \"น้ำแป้ง\"}, \"B7\": {\"status\": \"\", \"vendorID\": 38, \"shop_name\": \"พี่ปุ๋มเสื้อโปโลเชิ้ต\"}, \"B8\": {\"status\": \"\", \"vendorID\": 39, \"shop_name\": \"แจ็คกางเกง\"}, \"B9\": {\"status\": \"\", \"vendorID\": 40, \"shop_name\": \"แจ๊สกางเกง\"}, \"C1\": {\"status\": \"\", \"vendorID\": 54, \"shop_name\": \"แจ๊คพรีออเดอร์\"}, \"C2\": {\"status\": \"\", \"vendorID\": 55, \"shop_name\": \"ปุ้ยเสื้อยืด\"}, \"C3\": {\"status\": \"\", \"vendorID\": 56, \"shop_name\": \"เบิร์ดเสื้อยืด\"}, \"C4\": {\"status\": \"\", \"vendorID\": 57, \"shop_name\": \"แหม่มกางเกง\"}, \"C5\": {\"status\": \"\", \"vendorID\": 58, \"shop_name\": \"พี่แขกเสื้อเชิ้ตวินเทจ\"}, \"C6\": {\"status\": \"\", \"vendorID\": 59, \"shop_name\": \"เฮียนก\"}, \"C7\": {\"status\": \"\", \"vendorID\": 60, \"shop_name\": \"พี่วิชัย\"}, \"C8\": {\"status\": \"\", \"vendorID\": 61, \"shop_name\": \"พี่เด่น\"}, \"C9\": {\"status\": \"\", \"vendorID\": 62, \"shop_name\": \"พี่โจ้\"}, \"D1\": {\"status\": \"\", \"vendorID\": 65, \"shop_name\": \"พี่โจ้\"}, \"D2\": {\"status\": \"\", \"vendorID\": 66, \"shop_name\": \"พี่ชัย\"}, \"D3\": {\"status\": \"\", \"vendorID\": 67, \"shop_name\": \"พี่เบิ้ม\"}, \"E1\": {\"status\": \"\", \"vendorID\": 68, \"shop_name\": \"ฝ้ายสร้อย\"}, \"E2\": {\"status\": \"\", \"vendorID\": 69, \"shop_name\": \"ฝ้ายสร้อย\"}, \"E3\": {\"status\": \"\", \"vendorID\": 70, \"shop_name\": \"เดียเล็บทีน\"}, \"E4\": {\"status\": \"\", \"vendorID\": 71, \"shop_name\": \"แบ้งกี้เครื่องประดับ\"}, \"E5\": {\"status\": \"\", \"vendorID\": 72, \"shop_name\": \"ซายรองเท้า\"}, \"E8\": {\"status\": \"\", \"vendorID\": 73, \"shop_name\": \"เหนงเสื้อยืดแว่น กางเต๊นท์\"}, \"E9\": {\"status\": \"\", \"vendorID\": 74, \"shop_name\": \"วนิดา\"}, \"H1\": {\"status\": \"\", \"vendorID\": 91, \"shop_name\": \"พี่ปอใบไม้\"}, \"H2\": {\"status\": \"\", \"vendorID\": 92, \"shop_name\": \"พี่ต้องของเล่น\"}, \"H3\": {\"status\": \"\", \"vendorID\": 93, \"shop_name\": \"น้อยหน่า (nullว่างอังคาร)\"}, \"H4\": {\"status\": \"\", \"vendorID\": 94, \"shop_name\": \"มิ้น\"}, \"H5\": {\"status\": \"\", \"vendorID\": 95, \"shop_name\": \"not\"}, \"H6\": {\"status\": \"\", \"vendorID\": 96, \"shop_name\": \"พี่ป้อม\"}, \"H7\": {\"status\": \"\", \"vendorID\": 97, \"shop_name\": \"Gary เสื้อยืด\"}, \"H8\": {\"status\": \"\", \"vendorID\": 98, \"shop_name\": \"จู๊ดจี้\"}, \"H9\": {\"status\": \"\", \"vendorID\": 99, \"shop_name\": \"บุญญฤทธิ์\"}, \"A10\": {\"status\": \"\", \"vendorID\": 10, \"shop_name\": \"อาย daffodil.3store เสื้อฮิปปี้\"}, \"A11\": {\"status\": \"\", \"vendorID\": 11, \"shop_name\": \"บับเบิ้ลเสื้อยืด เนคไท ผ้าเช็ดหน้า\"}, \"A12\": {\"status\": \"\", \"vendorID\": 12, \"shop_name\": \"พี่อาร์มเสื้อกีฬา\"}, \"A13\": {\"status\": \"\", \"vendorID\": 13, \"shop_name\": \"พี่ฮัทถุงเท้า\"}, \"A14\": {\"status\": \"\", \"vendorID\": 14, \"shop_name\": \"พี่อ๋องแจ็คเก็ต\"}, \"A15\": {\"status\": \"\", \"vendorID\": 15, \"shop_name\": \"พี่วุฒิโปสเตอร์\"}, \"A16\": {\"status\": \"\", \"vendorID\": 16, \"shop_name\": \"พี่พรฮิปปี้แฟรี่ y2k\"}, \"A17\": {\"status\": \"\", \"vendorID\": 17, \"shop_name\": \"พี่เอ็ม & ครูมายัง y2k\"}, \"A18\": {\"status\": \"\", \"vendorID\": 18, \"shop_name\": \"โจแว่นตา\"}, \"A19\": {\"status\": \"\", \"vendorID\": 19, \"shop_name\": \"พี่เบนซ์\"}, \"A20\": {\"status\": \"\", \"vendorID\": 20, \"shop_name\": \"เจมส์ วูดูเสื้อยืดล้วน\"}, \"A21\": {\"status\": \"\", \"vendorID\": 21, \"shop_name\": \"พี่เท่งานเกาหลี\"}, \"A22\": {\"status\": \"\", \"vendorID\": 22, \"shop_name\": \"พี่ยุ้ยยีน\"}, \"A23\": {\"status\": \"\", \"vendorID\": 23, \"shop_name\": \"พี่ตั้มยีน\"}, \"A24\": {\"status\": \"\", \"vendorID\": 24, \"shop_name\": \"แพรถุงเท้ากิ๊ฟช็อป\"}, \"A25\": {\"status\": \"\", \"vendorID\": 25, \"shop_name\": \"เนยพวงกุญแจเสื้อลายสก็อต\"}, \"A26\": {\"status\": \"\", \"vendorID\": 26, \"shop_name\": \"พี่ส้มนาฬิกา\"}, \"A27\": {\"status\": \"\", \"vendorID\": 27, \"shop_name\": \"พี่ดิวสร้อยเงิน\"}, \"A28\": {\"status\": \"\", \"vendorID\": 28, \"shop_name\": \"พี่จอยสร้อยแฮนเมด\"}, \"A29\": {\"status\": \"\", \"vendorID\": 29, \"shop_name\": \"พี่อาร์ตรองเท้า\"}, \"A30\": {\"status\": \"\", \"vendorID\": 30, \"shop_name\": \"ซุ่น & ฝนเสื้อยืด\"}, \"A31\": {\"status\": \"\", \"vendorID\": 31, \"shop_name\": \"ลุงแบงค์เสื้อยืด\"}, \"B10\": {\"status\": \"\", \"vendorID\": 41, \"shop_name\": \"พี่อิ๊ของเล่น\"}, \"B11\": {\"status\": \"\", \"vendorID\": 42, \"shop_name\": \"พี่แอ๊ดเสื้อเชิ้ต\"}, \"B12\": {\"status\": \"\", \"vendorID\": 43, \"shop_name\": \"แอมเสื้อยืดวินเทจ\"}, \"B13\": {\"status\": \"\", \"vendorID\": 44, \"shop_name\": \"พี่แจ๊คเสื้อเชิ้ตวินเทจ\"}, \"B14\": {\"status\": \"\", \"vendorID\": 45, \"shop_name\": \"ซันเดย์เสื้อเชิ้ต\"}, \"B15\": {\"status\": \"\", \"vendorID\": 46, \"shop_name\": \"พี่โบ้เสื้อเชิ้ต\"}, \"B16\": {\"status\": \"\", \"vendorID\": 47, \"shop_name\": \"พี่เจี๊ยบเชิ้ตวินเทจ\"}, \"B17\": {\"status\": \"\", \"vendorID\": 48, \"shop_name\": \"พี่หมีเสื้อยืด\"}, \"B18\": {\"status\": \"\", \"vendorID\": 49, \"shop_name\": \"พี่วิไล\"}, \"B19\": {\"status\": \"\", \"vendorID\": 50, \"shop_name\": \"พี่เปี๊ยกเสื้อโปโล\"}, \"B20\": {\"status\": \"\", \"vendorID\": 51, \"shop_name\": \"พี่หน่อยเดรส\"}, \"B21\": {\"status\": \"\", \"vendorID\": 52, \"shop_name\": \"พี่หน่อยกางเกง\"}, \"B22\": {\"status\": \"\", \"vendorID\": 53, \"shop_name\": \"พี่กาญแจ็คเก็ต\"}, \"C10\": {\"status\": \"\", \"vendorID\": 63, \"shop_name\": \"พี่ชัย\"}, \"C11\": {\"status\": \"\", \"vendorID\": 64, \"shop_name\": \"เฮียเบิ้ม\"}, \"E10\": {\"status\": \"\", \"vendorID\": 75, \"shop_name\": \"กิ๊กโยะ\"}, \"E11\": {\"status\": \"\", \"vendorID\": 76, \"shop_name\": \"เวฟ\"}, \"E12\": {\"status\": \"\", \"vendorID\": 77, \"shop_name\": \"จีรศักดิ์\"}, \"E13\": {\"status\": \"\", \"vendorID\": 78, \"shop_name\": \"ฮันนี่\"}, \"E14\": {\"status\": \"\", \"vendorID\": 79, \"shop_name\": \"เต๋าน้อย\"}, \"E15\": {\"status\": \"\", \"vendorID\": 80, \"shop_name\": \"คาราเมล\"}, \"E16\": {\"status\": \"\", \"vendorID\": 81, \"shop_name\": \"เป็นหนึ่ง\"}, \"E17\": {\"status\": \"\", \"vendorID\": 82, \"shop_name\": \"ฟาง\"}, \"E18\": {\"status\": \"\", \"vendorID\": 83, \"shop_name\": \"กอล์ฟ The Vintage Shop\"}, \"E19\": {\"status\": \"\", \"vendorID\": 84, \"shop_name\": \"ต้า\"}, \"E20\": {\"status\": \"\", \"vendorID\": 85, \"shop_name\": \"แม่หมู\"}, \"E21\": {\"status\": \"\", \"vendorID\": 86, \"shop_name\": \"ปอนด์เสื้อยืด\"}, \"E22\": {\"status\": \"\", \"vendorID\": 87, \"shop_name\": \"น้าวัฒนะ\"}, \"E23\": {\"status\": \"\", \"vendorID\": 88, \"shop_name\": \"ดิวหนูนา\"}, \"E24\": {\"status\": \"\", \"vendorID\": 89, \"shop_name\": \"เเชมป์\"}, \"E25\": {\"status\": \"\", \"vendorID\": 90, \"shop_name\": \"แชมป์\"}, \"H10\": {\"status\": \"\", \"vendorID\": 100, \"shop_name\": \"พี่ป้อม\"}, \"H20\": {\"status\": \"\", \"vendorID\": 101, \"shop_name\": \"พัชรี\"}, \"Car1\": {\"status\": \"\", \"vendorID\": 102, \"shop_name\": \"พี่เต้ย\"}, \"Car2\": {\"status\": \"\", \"vendorID\": 103, \"shop_name\": \"พี่หนู\"}, \"Car3\": {\"status\": \"\", \"vendorID\": 104, \"shop_name\": \"พี่ตูน\"}, \"Car4\": {\"status\": \"\", \"vendorID\": 105, \"shop_name\": \"พี่จู๋ RatZone\"}, \"Car5\": {\"status\": \"\", \"vendorID\": 106, \"shop_name\": \"พี่ดรีม & พี่กานต์\"}, \"Car6\": {\"status\": \"\", \"vendorID\": 107, \"shop_name\": \"พี่โน๊ต (ตู้ขาว)\"}, \"Car7\": {\"status\": \"\", \"vendorID\": 108, \"shop_name\": \"พี่หนุ่ม\"}, \"Car8\": {\"status\": \"\", \"vendorID\": 109, \"shop_name\": \"พี่เฟรม\"}, \"Car9\": {\"status\": \"\", \"vendorID\": 110, \"shop_name\": \"พี่ต้น\"}, \"Car10\": {\"status\": \"\", \"vendorID\": 111, \"shop_name\": \"พี่บอล\"}}\n",
      "3 | Layout_test1 | active | {\"B1\": {\"status\": \"already paid\", \"vendorID\": 112, \"shop_name\": \"Pattaranon\"}, \"B2\": {\"status\": \"pending payment\", \"vendorID\": 113, \"shop_name\": \"Ananta\"}}\n",
      "11 | Demo | inactive | {\"B1\": {\"status\": \"\", \"vendorID\": 20, \"shop_name\": \"เจมส์ วูดูเสื้อยืดล้วน\"}}\n",
      "12 | TestLayout | inactive | {\"A1\": {\"status\": \"\", \"vendorID\": 1, \"shop_name\": \"Shop One\"}, \"A2\": {\"status\": \"\", \"vendorID\": 2, \"shop_name\": \"Shop Two\"}}\n",
      "13 | TestLayout | inactive | {\"A1\": {\"status\": \"\", \"vendorID\": 1, \"shop_name\": \"Shop One\"}, \"A2\": {\"status\": \"\", \"vendorID\": 2, \"shop_name\": \"Shop Two\"}}\n",
      "14 | TestLayout | inactive | {\"A1\": {\"status\": \"\", \"vendorID\": 1, \"shop_name\": \"Shop One\"}, \"A2\": {\"status\": \"\", \"vendorID\": 2, \"shop_name\": \"Shop Two\"}}\n"
     ]
    }
   ],
   "source": [
    "def show_all_rows():\n",
    "    conn = get_connection()\n",
    "    cursor = conn.cursor()\n",
    "\n",
    "    try:\n",
    "        cursor.execute(\"SELECT * FROM layouts\")\n",
    "        rows = cursor.fetchall()\n",
    "        columns = [desc[0] for desc in cursor.description]  # Current column names\n",
    "\n",
    "        # Desired order\n",
    "        desired_order = [\"id\", \"name\", \"status\", \"data\"]\n",
    "\n",
    "        # Create mapping of column name -> index\n",
    "        col_index = {col: idx for idx, col in enumerate(columns)}\n",
    "\n",
    "        if rows:\n",
    "            print(f\"Rows in 'layouts' ({len(rows)} rows):\\n\")\n",
    "            print(\" | \".join(desired_order))  # Print headers\n",
    "            print(\"-\" * (len(\" | \".join(desired_order)) + 10))\n",
    "\n",
    "            for row in rows:\n",
    "                # Reorder values according to desired_order\n",
    "                reordered = [str(row[col_index[col]]) for col in desired_order]\n",
    "                print(\" | \".join(reordered))\n",
    "        else:\n",
    "            print(\"No rows found in table.\")\n",
    "    except mysql.connector.Error as err:\n",
    "        print(f\"Error fetching rows: {err}\")\n",
    "    finally:\n",
    "        cursor.close()\n",
    "        conn.close()\n",
    "\n",
    "\n",
    "# Run the function\n",
    "show_all_rows()\n"
   ]
  },
  {
   "cell_type": "code",
   "execution_count": 25,
   "id": "5ba7a444",
   "metadata": {},
   "outputs": [
    {
     "name": "stdout",
     "output_type": "stream",
     "text": [
      "Rows in 'vendors' (113 rows):\n",
      "\n",
      "vendorID | vendor_name | shop_name | lineID | badges | attendance | attendance_days | payment\n",
      "-------------------------------------------------------------------------------------------------------\n",
      "1 | None | อิงสร้อยผ้าโพก | None | [\"เครื่องประดับ\"] | 3 | None | None\n",
      "2 | None | โอเสื้อยืด,เชิ้ต,แว่นตา | None | [] | 3 | None | None\n",
      "3 | None | ไอซ์ stronger.store25 เสื้อยืดแจ็คเก็ต | None | [\"เสื้อผ้า\"] | 3 | None | None\n",
      "4 | None | พี่ตั้มหอยทากเสื้อยืดของเล่น | None | [\"เสื้อผ้า\", \"ของเล่น\"] | 3 | None | None\n",
      "5 | None | แม่ต่ายเสื้อยืด | None | [\"เสื้อผ้า\", \"ของเล่น\"] | 3 | None | None\n",
      "6 | None | แม่ต่ายแขนยาว | None | [\"เสื้อผ้า\"] | 3 | None | None\n",
      "7 | None | โอมเพี้ยงเสื้อยืด | None | [\"เสื้อผ้า\"] | 3 | None | None\n",
      "8 | None | พี่เบนซ์กระเป๋า | None | [\"กระเป๋า\"] | 3 | None | None\n",
      "9 | None | ฟ่าง y2k | None | [\"เสื้อผ้า\", \"y2k\"] | 3 | None | None\n",
      "10 | None | อาย daffodil.3store เสื้อฮิปปี้ | None | [\"เสื้อผ้า\"] | 3 | None | None\n",
      "11 | None | บับเบิ้ลเสื้อยืด เนคไท ผ้าเช็ดหน้า | None | [\"เสื้อผ้า\"] | 3 | None | None\n",
      "12 | None | พี่อาร์มเสื้อกีฬา | None | [\"เสื้อผ้า\"] | 3 | None | None\n",
      "13 | None | พี่ฮัทถุงเท้า | None | [\"ถุงเท้า\"] | 3 | None | None\n",
      "14 | None | พี่อ๋องแจ็คเก็ต | None | [\"เสื้อผ้า\"] | 3 | None | None\n",
      "15 | None | พี่วุฒิโปสเตอร์ | None | [\"โปสเตอร์\"] | 3 | None | None\n",
      "16 | None | พี่พรฮิปปี้แฟรี่ y2k | None | [\"เสื้อผ้า\", \"y2k\"] | 3 | None | None\n",
      "17 | None | พี่เอ็ม & ครูมายัง y2k | None | [\"เสื้อผ้า\", \"y2k\"] | 3 | None | None\n",
      "18 | None | โจแว่นตา | None | [\"แว่นตา\"] | 3 | None | None\n",
      "19 | None | พี่เบนซ์ | None | [] | 3 | None | None\n",
      "20 | None | เจมส์ วูดูเสื้อยืดล้วน | None | [\"เสื้อผ้า\"] | 3 | None | None\n",
      "21 | None | พี่เท่งานเกาหลี | None | [] | 3 | None | None\n",
      "22 | None | พี่ยุ้ยยีน | None | [\"เสื้อผ้า\"] | 3 | None | None\n",
      "23 | None | พี่ตั้มยีน | None | [\"เสื้อผ้า\"] | 3 | None | None\n",
      "24 | None | แพรถุงเท้ากิ๊ฟช็อป | None | [\"ถุงเท้า\"] | 3 | None | None\n",
      "25 | None | เนยพวงกุญแจเสื้อลายสก็อต | None | [\"เครื่องประดับ\"] | 3 | None | None\n",
      "26 | None | พี่ส้มนาฬิกา | None | [\"นาฬิกา\"] | 3 | None | None\n",
      "27 | None | พี่ดิวสร้อยเงิน | None | [\"เครื่องประดับ\"] | 3 | None | None\n",
      "28 | None | พี่จอยสร้อยแฮนเมด | None | [\"เครื่องประดับ\"] | 3 | None | None\n",
      "29 | None | พี่อาร์ตรองเท้า | None | [\"รองเท้า\"] | 3 | None | None\n",
      "30 | None | ซุ่น & ฝนเสื้อยืด | None | [\"เสื้อผ้า\"] | 3 | None | None\n",
      "31 | None | ลุงแบงค์เสื้อยืด | None | [\"เสื้อผ้า\"] | 3 | None | None\n",
      "32 | None | พี่เอ๋เสื้อเชิ้ตฮาวาย | None | [\"เสื้อผ้า\"] | 3 | None | None\n",
      "33 | None | จ๊อยซ์กระเป๋า | None | [\"กระเป๋า\"] | 3 | None | None\n",
      "34 | None | เจ๊ก้อยของเล่นเด็ก | None | [\"ของเล่น\"] | 3 | None | None\n",
      "35 | None | น้ำแข็งเสื้อยืดวินเทจ | None | [\"เสื้อผ้า\"] | 3 | None | None\n",
      "36 | None | พี่แว่นกางเกง | None | [\"เสื้อผ้า\"] | 3 | None | None\n",
      "37 | None | น้ำแป้ง | None | [] | 3 | None | None\n",
      "38 | None | พี่ปุ๋มเสื้อโปโลเชิ้ต | None | [\"เสื้อผ้า\"] | 3 | None | None\n",
      "39 | None | แจ็คกางเกง | None | [\"เสื้อผ้า\"] | 3 | None | None\n",
      "40 | None | แจ๊สกางเกง | None | [\"เสื้อผ้า\"] | 3 | None | None\n",
      "41 | None | พี่อิ๊ของเล่น | None | [\"ของเล่น\"] | 3 | None | None\n",
      "42 | None | พี่แอ๊ดเสื้อเชิ้ต | None | [\"เสื้อผ้า\"] | 3 | None | None\n",
      "43 | None | แอมเสื้อยืดวินเทจ | None | [\"เสื้อผ้า\"] | 3 | None | None\n",
      "44 | None | พี่แจ๊คเสื้อเชิ้ตวินเทจ | None | [\"เสื้อผ้า\"] | 3 | None | None\n",
      "45 | None | ซันเดย์เสื้อเชิ้ต | None | [\"เสื้อผ้า\"] | 3 | None | None\n",
      "46 | None | พี่โบ้เสื้อเชิ้ต | None | [\"เสื้อผ้า\"] | 3 | None | None\n",
      "47 | None | พี่เจี๊ยบเชิ้ตวินเทจ | None | [\"เสื้อผ้า\"] | 3 | None | None\n",
      "48 | None | พี่หมีเสื้อยืด | None | [\"เสื้อผ้า\"] | 3 | None | None\n",
      "49 | None | พี่วิไล | None | [] | 3 | None | None\n",
      "50 | None | พี่เปี๊ยกเสื้อโปโล | None | [\"เสื้อผ้า\"] | 3 | None | None\n",
      "51 | None | พี่หน่อยเดรส | None | [\"เสื้อผ้า\"] | 3 | None | None\n",
      "52 | None | พี่หน่อยกางเกง | None | [\"เสื้อผ้า\"] | 3 | None | None\n",
      "53 | None | พี่กาญแจ็คเก็ต | None | [\"เสื้อผ้า\"] | 3 | None | None\n",
      "54 | None | แจ๊คพรีออเดอร์ | None | [] | 3 | None | None\n",
      "55 | None | ปุ้ยเสื้อยืด | None | [\"เสื้อผ้า\"] | 3 | None | None\n",
      "56 | None | เบิร์ดเสื้อยืด | None | [\"เสื้อผ้า\"] | 3 | None | None\n",
      "57 | None | แหม่มกางเกง | None | [\"เสื้อผ้า\"] | 3 | None | None\n",
      "58 | None | พี่แขกเสื้อเชิ้ตวินเทจ | None | [\"เสื้อผ้า\"] | 3 | None | None\n",
      "59 | None | เฮียนก | None | [] | 3 | None | None\n",
      "60 | None | พี่วิชัย | None | [] | 3 | None | None\n",
      "61 | None | พี่เด่น | None | [] | 3 | None | None\n",
      "62 | None | พี่โจ้ | None | [] | 3 | None | None\n",
      "63 | None | พี่ชัย | None | [] | 3 | None | None\n",
      "64 | None | เฮียเบิ้ม | None | [] | 3 | None | None\n",
      "65 | None | พี่โจ้ | None | [] | 3 | None | None\n",
      "66 | None | พี่ชัย | None | [] | 3 | None | None\n",
      "67 | None | พี่เบิ้ม | None | [] | 3 | None | None\n",
      "68 | None | ฝ้ายสร้อย | None | [\"เครื่องประดับ\"] | 3 | None | None\n",
      "69 | None | ฝ้ายสร้อย | None | [\"เครื่องประดับ\"] | 3 | None | None\n",
      "70 | None | เดียเล็บทีน | None | [] | 3 | None | None\n",
      "71 | None | แบ้งกี้เครื่องประดับ | None | [\"เครื่องประดับ\"] | 3 | None | None\n",
      "72 | None | ซายรองเท้า | None | [\"รองเท้า\"] | 3 | None | None\n",
      "73 | None | เหนงเสื้อยืดแว่น กางเต๊นท์ | None | [\"เสื้อผ้า\", \"แว่นตา\"] | 3 | None | None\n",
      "74 | None | วนิดา | None | [] | 3 | None | None\n",
      "75 | None | กิ๊กโยะ | None | [] | 3 | None | None\n",
      "76 | None | เวฟ | None | [] | 3 | None | None\n",
      "77 | None | จีรศักดิ์ | None | [] | 3 | None | None\n",
      "78 | None | ฮันนี่ | None | [] | 3 | None | None\n",
      "79 | None | เต๋าน้อย | None | [] | 3 | None | None\n",
      "80 | None | คาราเมล | None | [] | 3 | None | None\n",
      "81 | None | เป็นหนึ่ง | None | [] | 3 | None | None\n",
      "82 | None | ฟาง | None | [] | 3 | None | None\n",
      "83 | None | กอล์ฟ The Vintage Shop | None | [] | 3 | None | None\n",
      "84 | None | ต้า | None | [] | 3 | None | None\n",
      "85 | None | แม่หมู | None | [] | 3 | None | None\n",
      "86 | None | ปอนด์เสื้อยืด | None | [\"เสื้อผ้า\"] | 3 | None | None\n",
      "87 | None | น้าวัฒนะ | None | [] | 3 | None | None\n",
      "88 | None | ดิวหนูนา | None | [] | 3 | None | None\n",
      "89 | None | เเชมป์ | None | [] | 3 | None | None\n",
      "90 | None | แชมป์ | None | [] | 3 | None | None\n",
      "91 | None | พี่ปอใบไม้ | None | [] | 3 | None | None\n",
      "92 | None | พี่ต้องของเล่น | None | [\"ของเล่น\"] | 3 | None | None\n",
      "93 | None | น้อยหน่า (nullว่างอังคาร) | None | [] | 3 | None | None\n",
      "94 | None | มิ้น | None | [] | 3 | None | None\n",
      "95 | None | not | None | [] | 3 | None | None\n",
      "96 | None | พี่ป้อม | None | [] | 3 | None | None\n",
      "97 | None | Gary เสื้อยืด | None | [\"เสื้อผ้า\"] | 3 | None | None\n",
      "98 | None | จู๊ดจี้ | None | [] | 3 | None | None\n",
      "99 | None | บุญญฤทธิ์ | None | [] | 3 | None | None\n",
      "100 | None | พี่ป้อม | None | [] | 3 | None | None\n",
      "101 | None | พัชรี | None | [] | 3 | None | None\n",
      "102 | None | พี่เต้ย | None | [] | 3 | None | None\n",
      "103 | None | พี่หนู | None | [] | 3 | None | None\n",
      "104 | None | พี่ตูน | None | [] | 3 | None | None\n",
      "105 | None | พี่จู๋ RatZone | None | [] | 3 | None | None\n",
      "106 | None | พี่ดรีม & พี่กานต์ | None | [] | 3 | None | None\n",
      "107 | None | พี่โน๊ต (ตู้ขาว) | None | [] | 3 | None | None\n",
      "108 | None | พี่หนุ่ม | None | [] | 3 | None | None\n",
      "109 | None | พี่เฟรม | None | [] | 3 | None | None\n",
      "110 | None | พี่ต้น | None | [] | 3 | None | None\n",
      "111 | None | พี่บอล | None | [] | 3 | None | None\n",
      "112 | None | Pattaranon | U187b91a5499f71fc6bd043862859c15a | [] | 0 | [\"Tuesday\"] | 100\n",
      "113 | None | Ananta | Uba9c6372c95976bb909ebce81e86b933 | [\"ของเล่น\"] | 0 | [\"Tuesday\"] | 100\n"
     ]
    }
   ],
   "source": [
    "def show_all_rows():\n",
    "    conn = get_connection()\n",
    "    cursor = conn.cursor()\n",
    "\n",
    "    try:\n",
    "        cursor.execute(\"SELECT * FROM vendors\")\n",
    "        rows = cursor.fetchall()\n",
    "        columns = [desc[0] for desc in cursor.description]  # Get column names\n",
    "\n",
    "        if rows:\n",
    "            print(f\"Rows in 'vendors' ({len(rows)} rows):\\n\")\n",
    "            print(\" | \".join(columns))  # Print column headers\n",
    "            print(\"-\" * (len(\" | \".join(columns)) + 10))\n",
    "            for row in rows:\n",
    "                print(\" | \".join(str(cell) for cell in row))\n",
    "        else:\n",
    "            print(\"No rows found in table.\")\n",
    "    except mysql.connector.Error as err:\n",
    "        print(f\"Error fetching rows: {err}\")\n",
    "    finally:\n",
    "        cursor.close()\n",
    "        conn.close()\n",
    "\n",
    "# Run the function\n",
    "show_all_rows()\n",
    "    "
   ]
  },
  {
   "cell_type": "code",
   "execution_count": null,
   "id": "c3256371",
   "metadata": {},
   "outputs": [
    {
     "name": "stdout",
     "output_type": "stream",
     "text": [
      "Error updating rows: 1205 (HY000): Lock wait timeout exceeded; try restarting transaction\n"
     ]
    }
   ],
   "source": [
    "def update_attendance_to_three():\n",
    "    conn = get_connection()\n",
    "    cursor = conn.cursor()\n",
    "\n",
    "    try:\n",
    "        cursor.execute(\"UPDATE vendors SET attendance = 3\")\n",
    "        conn.commit()\n",
    "        print(\"All rows updated: attendance set to 3.\")\n",
    "    except mysql.connector.Error as err:\n",
    "        print(f\"Error updating rows: {err}\")\n",
    "    finally:\n",
    "        cursor.close()\n",
    "        conn.close()\n",
    "\n",
    "# Run the function\n",
    "update_attendance_to_three()\n"
   ]
  },
  {
   "cell_type": "code",
   "execution_count": 14,
   "id": "aa374d4e",
   "metadata": {},
   "outputs": [
    {
     "name": "stdout",
     "output_type": "stream",
     "text": [
      "('id', b'int', 'NO', bytearray(b'PRI'), None, 'auto_increment')\n",
      "('name', b'varchar(255)', 'NO', bytearray(b''), None, '')\n",
      "('data', b'json', 'YES', bytearray(b''), None, '')\n",
      "('status', b'varchar(50)', 'YES', bytearray(b''), b'inactive', '')\n"
     ]
    }
   ],
   "source": [
    "conn = get_connection()\n",
    "cursor = conn.cursor()\n",
    "\n",
    "cursor.execute(\"DESCRIBE layouts;\")\n",
    "rows = cursor.fetchall()  # <- fetch all results first\n",
    "for row in rows:\n",
    "    print(row)\n",
    "\n",
    "cursor.close()\n",
    "conn.close()"
   ]
  },
  {
   "cell_type": "code",
   "execution_count": 12,
   "id": "322e49f1",
   "metadata": {},
   "outputs": [
    {
     "name": "stdout",
     "output_type": "stream",
     "text": [
      "Test script started\n",
      "Inside create_app\n",
      "App created: app\n"
     ]
    }
   ],
   "source": [
    "print(\"Test script started\")\n",
    "\n",
    "def create_app():\n",
    "    print(\"Inside create_app\")\n",
    "    return \"app\"\n",
    "\n",
    "app = create_app()\n",
    "print(\"App created:\", app)\n"
   ]
  },
  {
   "cell_type": "code",
   "execution_count": 17,
   "id": "abafc220",
   "metadata": {},
   "outputs": [
    {
     "name": "stdout",
     "output_type": "stream",
     "text": [
      "Updated data with 'status' key added.\n"
     ]
    }
   ],
   "source": [
    "conn = get_connection()\n",
    "cursor = conn.cursor()\n",
    "\n",
    "cursor.execute(\"SELECT data FROM layouts WHERE id = %s\", (11,))\n",
    "row = cursor.fetchone()\n",
    "if row:\n",
    "    data_json = row[0]\n",
    "    # 2. Parse JSON string to dict\n",
    "    data = json.loads(data_json)\n",
    "\n",
    "    # 3. Add 'status' key to every vendor (each sub-dict)\n",
    "    for vendor_key, vendor_info in data.items():\n",
    "        vendor_info['status'] = \"active\"  # or any value you want\n",
    "\n",
    "    # 4. Convert dict back to JSON string\n",
    "    new_json_str = json.dumps(data, ensure_ascii=False)\n",
    "\n",
    "    # 5. Update the database\n",
    "    cursor.execute(\"UPDATE layouts SET data = %s WHERE id = %s\", (new_json_str, 11))\n",
    "    conn.commit()\n",
    "    print(\"Updated data with 'status' key added.\")\n",
    "else:\n",
    "    print(\"No record with id=3 found.\")\n",
    "\n",
    "conn.close()"
   ]
  },
  {
   "cell_type": "code",
   "execution_count": 41,
   "id": "b7cec925",
   "metadata": {},
   "outputs": [],
   "source": [
    "conn = get_connection()\n",
    "cursor = conn.cursor()\n",
    "cursor.execute(\"ALTER TABLE layouts MODIFY COLUMN status VARCHAR(50) DEFAULT 'inactive' \")\n",
    "conn.commit()"
   ]
  },
  {
   "cell_type": "code",
   "execution_count": 40,
   "id": "112c8902",
   "metadata": {},
   "outputs": [
    {
     "name": "stdout",
     "output_type": "stream",
     "text": [
      "200\n",
      "{'message': \"Layout id=13 status updated to 'inactive'.\"}\n"
     ]
    }
   ],
   "source": [
    "import requests\n",
    "\n",
    "url = \"http://127.0.0.1:8080/deactivate_layout/13\"\n",
    "\n",
    "\n",
    "response = requests.post(url)\n",
    "print(response.status_code)\n",
    "print(response.json())\n"
   ]
  },
  {
   "cell_type": "code",
   "execution_count": 8,
   "id": "29c3c5fb",
   "metadata": {},
   "outputs": [],
   "source": [
    "conn = get_connection()\n",
    "cursor = conn.cursor()\n",
    "alter_table_query = \"\"\"\n",
    "            ALTER TABLE vendors \n",
    "            ADD COLUMN payment INT NULL;\n",
    "            \"\"\"\n",
    "            \n",
    "cursor.execute(alter_table_query)\n",
    "conn.commit()\n",
    "cursor.close()\n",
    "conn.close()"
   ]
  },
  {
   "cell_type": "code",
   "execution_count": null,
   "id": "818aa9e3",
   "metadata": {},
   "outputs": [],
   "source": []
  }
 ],
 "metadata": {
  "kernelspec": {
   "display_name": "Kadman",
   "language": "python",
   "name": "python3"
  },
  "language_info": {
   "codemirror_mode": {
    "name": "ipython",
    "version": 3
   },
   "file_extension": ".py",
   "mimetype": "text/x-python",
   "name": "python",
   "nbconvert_exporter": "python",
   "pygments_lexer": "ipython3",
   "version": "3.9.0"
  }
 },
 "nbformat": 4,
 "nbformat_minor": 5
}
