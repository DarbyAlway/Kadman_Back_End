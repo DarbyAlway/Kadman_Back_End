{
 "cells": [
  {
   "cell_type": "code",
   "execution_count": 1,
   "id": "8468c81e",
   "metadata": {},
   "outputs": [],
   "source": [
    "import mysql.connector\n",
    "import json\n",
    "import time\n",
    "def get_connection():\n",
    "    return mysql.connector.connect(\n",
    "        host=\"kadman-database.c8boumioc8hx.us-east-1.rds.amazonaws.com\",\n",
    "        user=\"admin\",\n",
    "        password=\"12345678\",\n",
    "        database=\"kadmandb\",\n",
    "        port=3306,\n",
    "        charset='utf8mb4'\n",
    "    )\n",
    "\n",
    "def wait_for_db_connection():\n",
    "    while True:\n",
    "        try:\n",
    "            conn = get_connection()\n",
    "            print(\"✅ Successfully connected to MySQL database\")\n",
    "            return conn\n",
    "        except Exception as e:\n",
    "            print(f\"❌ Failed to connect to DB: {e}. Retrying in 1 seconds...\")\n",
    "            time.sleep(1)"
   ]
  },
  {
   "cell_type": "code",
   "execution_count": 2,
   "id": "c0686798",
   "metadata": {},
   "outputs": [
    {
     "name": "stdout",
     "output_type": "stream",
     "text": [
      "✅ Successfully connected to MySQL database\n"
     ]
    }
   ],
   "source": [
    "con = wait_for_db_connection()\n",
    "cursor = con.cursor()\n"
   ]
  },
  {
   "cell_type": "code",
   "execution_count": null,
   "id": "cbb37ca5",
   "metadata": {},
   "outputs": [],
   "source": [
    "# Query all vendor data\n",
    "cursor.execute(\"ALTER TABLE vendors DROP COLUMN lineID\")\n",
    "rows = cursor.fetchall()\n",
    "print(rows)"
   ]
  },
  {
   "cell_type": "code",
   "execution_count": 16,
   "id": "9feb9591",
   "metadata": {},
   "outputs": [],
   "source": [
    "cursor.execute(\"ALTER TABLE vendors ADD COLUMN UserProfile VARCHAR(20)\")\n",
    "con.commit()\n",
    "cursor.close()\n",
    "con.close()"
   ]
  },
  {
   "cell_type": "code",
   "execution_count": null,
   "id": "7fb350f4",
   "metadata": {},
   "outputs": [
    {
     "name": "stdout",
     "output_type": "stream",
     "text": [
      "[(1, None, 'อิงสร้อยผ้าโพก', None, '[\"เครื่องประดับ\"]'), (2, None, 'โอเสื้อยืด,เชิ้ต,แว่นตา', None, '[\"new bagde\"]'), (3, None, 'ไอซ์ stronger.store25 เสื้อยืดแจ็คเก็ต', None, '[\"เสื้อผ้า\"]'), (4, None, 'พี่ตั้มหอยทากเสื้อยืดของเล่น', None, '[\"เสื้อผ้า\", \"ของเล่น\"]'), (5, None, 'แม่ต่ายเสื้อยืด', None, '[\"เสื้อผ้า\"]'), (6, None, 'แม่ต่ายแขนยาว', None, '[\"เสื้อผ้า\"]'), (7, None, 'โอมเพี้ยงเสื้อยืด', None, '[\"เสื้อผ้า\"]'), (8, None, 'พี่เบนซ์กระเป๋า', None, '[\"กระเป๋า\"]'), (9, None, 'ฟ่าง y2k', None, '[\"เสื้อผ้า\", \"y2k\"]'), (10, None, 'อาย daffodil.3store เสื้อฮิปปี้', None, '[\"เสื้อผ้า\"]'), (11, None, 'บับเบิ้ลเสื้อยืด เนคไท ผ้าเช็ดหน้า', None, '[\"เสื้อผ้า\"]'), (12, None, 'พี่อาร์มเสื้อกีฬา', None, '[\"เสื้อผ้า\"]'), (13, None, 'พี่ฮัทถุงเท้า', None, '[\"ถุงเท้า\"]'), (14, None, 'พี่อ๋องแจ็คเก็ต', None, '[\"เสื้อผ้า\"]'), (15, None, 'พี่วุฒิโปสเตอร์', None, '[\"โปสเตอร์\"]'), (16, None, 'พี่พรฮิปปี้แฟรี่ y2k', None, '[\"เสื้อผ้า\", \"y2k\"]'), (17, None, 'พี่เอ็ม & ครูมายัง y2k', None, '[\"เสื้อผ้า\", \"y2k\"]'), (18, None, 'โจแว่นตา', None, '[\"แว่นตา\"]'), (19, None, 'พี่เบนซ์', None, '[]'), (20, None, 'เจมส์ วูดูเสื้อยืดล้วน', None, '[\"เสื้อผ้า\"]'), (21, None, 'พี่เท่งานเกาหลี', None, '[]'), (22, None, 'พี่ยุ้ยยีน', None, '[\"เสื้อผ้า\"]'), (23, None, 'พี่ตั้มยีน', None, '[\"เสื้อผ้า\"]'), (24, None, 'แพรถุงเท้ากิ๊ฟช็อป', None, '[\"ถุงเท้า\"]'), (25, None, 'เนยพวงกุญแจเสื้อลายสก็อต', None, '[\"เครื่องประดับ\"]'), (26, None, 'พี่ส้มนาฬิกา', None, '[\"นาฬิกา\"]'), (27, None, 'พี่ดิวสร้อยเงิน', None, '[\"เครื่องประดับ\"]'), (28, None, 'พี่จอยสร้อยแฮนเมด', None, '[\"เครื่องประดับ\"]'), (29, None, 'พี่อาร์ตรองเท้า', None, '[\"รองเท้า\"]'), (30, None, 'ซุ่น & ฝนเสื้อยืด', None, '[\"เสื้อผ้า\"]'), (31, None, 'ลุงแบงค์เสื้อยืด', None, '[\"เสื้อผ้า\"]'), (32, None, 'พี่เอ๋เสื้อเชิ้ตฮาวาย', None, '[\"เสื้อผ้า\"]'), (33, None, 'จ๊อยซ์กระเป๋า', None, '[\"กระเป๋า\"]'), (34, None, 'เจ๊ก้อยของเล่นเด็ก', None, '[\"ของเล่น\"]'), (35, None, 'น้ำแข็งเสื้อยืดวินเทจ', None, '[\"เสื้อผ้า\"]'), (36, None, 'พี่แว่นกางเกง', None, '[\"เสื้อผ้า\"]'), (37, None, 'น้ำแป้ง', None, '[]'), (38, None, 'พี่ปุ๋มเสื้อโปโลเชิ้ต', None, '[\"เสื้อผ้า\"]'), (39, None, 'แจ็คกางเกง', None, '[\"เสื้อผ้า\"]'), (40, None, 'แจ๊สกางเกง', None, '[\"เสื้อผ้า\"]'), (41, None, 'พี่อิ๊ของเล่น', None, '[\"ของเล่น\"]'), (42, None, 'พี่แอ๊ดเสื้อเชิ้ต', None, '[\"เสื้อผ้า\"]'), (43, None, 'แอมเสื้อยืดวินเทจ', None, '[\"เสื้อผ้า\"]'), (44, None, 'พี่แจ๊คเสื้อเชิ้ตวินเทจ', None, '[\"เสื้อผ้า\"]'), (45, None, 'ซันเดย์เสื้อเชิ้ต', None, '[\"เสื้อผ้า\"]'), (46, None, 'พี่โบ้เสื้อเชิ้ต', None, '[\"เสื้อผ้า\"]'), (47, None, 'พี่เจี๊ยบเชิ้ตวินเทจ', None, '[\"เสื้อผ้า\"]'), (48, None, 'พี่หมีเสื้อยืด', None, '[\"เสื้อผ้า\"]'), (49, None, 'พี่วิไล', None, '[]'), (50, None, 'พี่เปี๊ยกเสื้อโปโล', None, '[\"เสื้อผ้า\"]'), (51, None, 'พี่หน่อยเดรส', None, '[\"เสื้อผ้า\"]'), (52, None, 'พี่หน่อยกางเกง', None, '[\"เสื้อผ้า\"]'), (53, None, 'พี่กาญแจ็คเก็ต', None, '[\"เสื้อผ้า\"]'), (54, None, 'แจ๊คพรีออเดอร์', None, '[]'), (55, None, 'ปุ้ยเสื้อยืด', None, '[\"เสื้อผ้า\"]'), (56, None, 'เบิร์ดเสื้อยืด', None, '[\"เสื้อผ้า\"]'), (57, None, 'แหม่มกางเกง', None, '[\"เสื้อผ้า\"]'), (58, None, 'พี่แขกเสื้อเชิ้ตวินเทจ', None, '[\"เสื้อผ้า\"]'), (59, None, 'เฮียนก', None, '[]'), (60, None, 'พี่วิชัย', None, '[]'), (61, None, 'พี่เด่น', None, '[]'), (62, None, 'พี่โจ้', None, '[]'), (63, None, 'พี่ชัย', None, '[]'), (64, None, 'เฮียเบิ้ม', None, '[]'), (65, None, 'พี่โจ้', None, '[]'), (66, None, 'พี่ชัย', None, '[]'), (67, None, 'พี่เบิ้ม', None, '[]'), (68, None, 'ฝ้ายสร้อย', None, '[\"เครื่องประดับ\"]'), (69, None, 'ฝ้ายสร้อย', None, '[\"เครื่องประดับ\"]'), (70, None, 'เดียเล็บทีน', None, '[]'), (71, None, 'แบ้งกี้เครื่องประดับ', None, '[\"เครื่องประดับ\"]'), (72, None, 'ซายรองเท้า', None, '[\"รองเท้า\"]'), (73, None, 'เหนงเสื้อยืดแว่น กางเต๊นท์', None, '[\"เสื้อผ้า\", \"แว่นตา\"]'), (74, None, 'วนิดา', None, '[]'), (75, None, 'กิ๊กโยะ', None, '[]'), (76, None, 'เวฟ', None, '[]'), (77, None, 'จีรศักดิ์', None, '[]'), (78, None, 'ฮันนี่', None, '[]'), (79, None, 'เต๋าน้อย', None, '[]'), (80, None, 'คาราเมล', None, '[]'), (81, None, 'เป็นหนึ่ง', None, '[]'), (82, None, 'ฟาง', None, '[]'), (83, None, 'กอล์ฟ The Vintage Shop', None, '[]'), (84, None, 'ต้า', None, '[]'), (85, None, 'แม่หมู', None, '[]'), (86, None, 'ปอนด์เสื้อยืด', None, '[\"เสื้อผ้า\"]'), (87, None, 'น้าวัฒนะ', None, '[]'), (88, None, 'ดิวหนูนา', None, '[]'), (89, None, 'เเชมป์', None, '[]'), (90, None, 'แชมป์', None, '[]'), (91, None, 'พี่ปอใบไม้', None, '[]'), (92, None, 'พี่ต้องของเล่น', None, '[\"ของเล่น\"]'), (93, None, 'น้อยหน่า (nullว่างอังคาร)', None, '[]'), (94, None, 'มิ้น', None, '[]'), (95, None, 'not', None, '[]'), (96, None, 'พี่ป้อม', None, '[]'), (97, None, 'Gary เสื้อยืด', None, '[\"เสื้อผ้า\"]'), (98, None, 'จู๊ดจี้', None, '[]'), (99, None, 'บุญญฤทธิ์', None, '[]'), (100, None, 'พี่ป้อม', None, '[]'), (101, None, 'พัชรี', None, '[]'), (102, None, 'พี่เต้ย', None, '[]'), (103, None, 'พี่หนู', None, '[]'), (104, None, 'พี่ตูน', None, '[]'), (105, None, 'พี่จู๋ RatZone', None, '[]'), (106, None, 'พี่ดรีม & พี่กานต์', None, '[]'), (107, None, 'พี่โน๊ต (ตู้ขาว)', None, '[]'), (108, None, 'พี่หนุ่ม', None, '[]'), (109, None, 'พี่เฟรม', None, '[]'), (110, None, 'พี่ต้น', None, '[]'), (111, None, 'พี่บอล', None, '[]')]\n"
     ]
    },
    {
     "ename": "",
     "evalue": "",
     "output_type": "error",
     "traceback": [
      "\u001b[1;31mThe Kernel crashed while executing code in the current cell or a previous cell. \n",
      "\u001b[1;31mPlease review the code in the cell(s) to identify a possible cause of the failure. \n",
      "\u001b[1;31mClick <a href='https://aka.ms/vscodeJupyterKernelCrash'>here</a> for more info. \n",
      "\u001b[1;31mView Jupyter <a href='command:jupyter.viewOutput'>log</a> for further details."
     ]
    }
   ],
   "source": [
    "cursor = con.cursor()\n",
    "\n",
    "# Replace 'your_table_name' with the actual table name\n",
    "cursor.execute(\"SELECT * FROM vendors\")\n",
    "\n",
    "columns = cursor.fetchall()\n",
    "\n",
    "print(columns)\n",
    "\n"
   ]
  },
  {
   "cell_type": "code",
   "execution_count": 54,
   "id": "99a10eae",
   "metadata": {},
   "outputs": [
    {
     "name": "stdout",
     "output_type": "stream",
     "text": [
      "✅ Successfully connected to MySQL database\n",
      "✅ Table 'waiting_vendors' dropped successfully.\n"
     ]
    },
    {
     "data": {
      "text/plain": [
       "False"
      ]
     },
     "execution_count": 54,
     "metadata": {},
     "output_type": "execute_result"
    }
   ],
   "source": [
    "conn = wait_for_db_connection()\n",
    "\n",
    "try:\n",
    "    cursor\n",
    "except NameError:\n",
    "    cursor = None\n",
    "\n",
    "if cursor is not None:\n",
    "    try:\n",
    "        # fetch all unread results if any\n",
    "        cursor.fetchall()\n",
    "    except Exception:\n",
    "        # ignore if no results or error\n",
    "        pass\n",
    "    cursor.close()\n",
    "cursor = conn.cursor()\n",
    "cursor.execute(\"DROP TABLE IF EXISTS waiting_vendors\")\n",
    "print(\"✅ Table 'waiting_vendors' dropped successfully.\")\n",
    "cursor.close()\n",
    "conn.commit()\n",
    "cursor.close()\n"
   ]
  },
  {
   "cell_type": "code",
   "execution_count": 55,
   "id": "c1b06352",
   "metadata": {},
   "outputs": [
    {
     "name": "stdout",
     "output_type": "stream",
     "text": [
      "✅ Table 'waiting_vendors' created successfully.\n"
     ]
    }
   ],
   "source": [
    "def create_waiting_vendors_table():\n",
    "    conn = get_connection()\n",
    "    cursor = conn.cursor()\n",
    "\n",
    "    create_table_sql = \"\"\"\n",
    "    CREATE TABLE IF NOT EXISTS waiting_vendors (\n",
    "        LineID VARCHAR(255) COLLATE utf8mb4_unicode_ci NOT NULL,\n",
    "        UserProfile VARCHAR(255) COLLATE utf8mb4_unicode_ci NOT NULL,\n",
    "        PRIMARY KEY (LineID)\n",
    "    ) ENGINE=InnoDB DEFAULT CHARSET=utf8mb4 COLLATE=utf8mb4_unicode_ci;\n",
    "    \"\"\"\n",
    "\n",
    "    try:\n",
    "        cursor.execute(create_table_sql)\n",
    "        print(\"✅ Table 'waiting_vendors' created successfully.\")\n",
    "    except mysql.connector.Error as err:\n",
    "        print(f\"❌ Error creating table: {err}\")\n",
    "    finally:\n",
    "        cursor.close()\n",
    "        conn.close()\n",
    "\n",
    "# Run the function\n",
    "create_waiting_vendors_table()\n"
   ]
  },
  {
   "cell_type": "code",
   "execution_count": null,
   "id": "272b3a92",
   "metadata": {},
   "outputs": [
    {
     "name": "stdout",
     "output_type": "stream",
     "text": [
      "No rows found in 'waiting_vendors' table.\n"
     ]
    },
    {
     "ename": "",
     "evalue": "",
     "output_type": "error",
     "traceback": [
      "\u001b[1;31mThe Kernel crashed while executing code in the current cell or a previous cell. \n",
      "\u001b[1;31mPlease review the code in the cell(s) to identify a possible cause of the failure. \n",
      "\u001b[1;31mClick <a href='https://aka.ms/vscodeJupyterKernelCrash'>here</a> for more info. \n",
      "\u001b[1;31mView Jupyter <a href='command:jupyter.viewOutput'>log</a> for further details."
     ]
    }
   ],
   "source": [
    "def show_all_rows():\n",
    "    conn = get_connection()\n",
    "    cursor = conn.cursor()\n",
    "\n",
    "    try:\n",
    "        cursor.execute(\"SELECT * FROM layouts\")\n",
    "        rows = cursor.fetchall()\n",
    "        if rows:\n",
    "            print(f\"Rows in 'waiting_vendors' ({len(rows)} rows):\")\n",
    "            for row in rows:\n",
    "                print(row)\n",
    "        else:\n",
    "            print(\"No rows found in 'waiting_vendors' table.\")\n",
    "    except mysql.connector.Error as err:\n",
    "        print(f\"Error fetching rows: {err}\")\n",
    "    finally:\n",
    "        cursor.close()\n",
    "        conn.close()\n",
    "\n",
    "# Run the function\n",
    "show_all_rows()"
   ]
  },
  {
   "cell_type": "code",
   "execution_count": null,
   "id": "c3256371",
   "metadata": {},
   "outputs": [
    {
     "name": "stdout",
     "output_type": "stream",
     "text": [
      "✅ Successfully connected to MySQL database\n"
     ]
    }
   ],
   "source": [
    "conn = wait_for_db_connection()\n",
    "cursor = conn.cursor()\n",
    "cursor.execute('''\n",
    "CREATE TABLE IF NOT EXISTS real_vendors (\n",
    "    vendorsID INTEGER PRIMARY KEY AUTO_INCREMENT,\n",
    "    shopname VARCHAR(255) NOT NULL,\n",
    "    phone_number VARCHAR(20) NOT NULL,\n",
    "    badges JSON,             -- MySQL supports a JSON data type in recent versions\n",
    "    UserProfile VARCHAR(1000) NOT NULL\n",
    ");\n",
    "''')"
   ]
  },
  {
   "cell_type": "code",
   "execution_count": null,
   "id": "aa374d4e",
   "metadata": {},
   "outputs": [],
   "source": [
    "sql = 'SHOW COLUMNS FROM kadmandb.columns'"
   ]
  }
 ],
 "metadata": {
  "kernelspec": {
   "display_name": "base",
   "language": "python",
   "name": "python3"
  },
  "language_info": {
   "codemirror_mode": {
    "name": "ipython",
    "version": 3
   },
   "file_extension": ".py",
   "mimetype": "text/x-python",
   "name": "python",
   "nbconvert_exporter": "python",
   "pygments_lexer": "ipython3",
   "version": "3.12.1"
  }
 },
 "nbformat": 4,
 "nbformat_minor": 5
}
